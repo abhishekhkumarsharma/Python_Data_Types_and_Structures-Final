{
  "nbformat": 4,
  "nbformat_minor": 0,
  "metadata": {
    "colab": {
      "provenance": []
    },
    "kernelspec": {
      "name": "python3",
      "display_name": "Python 3"
    },
    "language_info": {
      "name": "python"
    }
  },
  "cells": [
    {
      "cell_type": "markdown",
      "source": [
        "## Data Types and Structures Questions"
      ],
      "metadata": {
        "id": "MrgabMls2Rck"
      }
    },
    {
      "cell_type": "markdown",
      "source": [
        "1. What are data structures, and why are they important?\n",
        "- Data structures are ways to organize and store data for efficient access and modification. They are important because they allow programs to handle large amounts of data efficiently (e.g., searching, sorting, insertion).\n",
        "\n",
        "2. Explain the difference between mutable and immutable data types with examples.  \n",
        "- Mutable: Can be changed after creation.\n",
        "Example: list = [1, 2, 3] → list[0] = 10\n",
        "Immutable: Cannot be changed after creation.\n",
        "Example: string = \"hello\" → string[0] = \"H\" (Error)\n",
        "\n",
        "3.  What are the main differences between lists and tuples in Python?\n",
        "- Lists are mutable, tuples are immutable.\n",
        "Lists use [], tuples use ().\n",
        "Lists are slower than tuples for iteration.\n",
        "\n",
        "4. Describe how dictionaries store data.\n",
        "- Dictionaries store data as key-value pairs using a hash table mechanism. Keys must be unique and hashable.\n",
        "\n",
        "5. Why might you use a set instead of a list in Python?\n",
        "- Sets automatically remove duplicates and offer faster lookup times due to hashing.\n",
        "\n",
        "6. What is a string in Python, and how is it different from a list?\n",
        "- A string is a sequence of characters, immutable, and supports many string-specific operations. Lists can hold multiple data types and are mutable.\n",
        "\n",
        "7. How do tuples ensure data integrity?\n",
        "- Their immutability prevents accidental modification, making them suitable for fixed collections.\n",
        "\n",
        "8.What is a hash table, and how does it relate to dictionaries?\n",
        "- A hash table maps keys to values using a hash function. Python’s dictionaries are implemented using hash tables.\n",
        "\n",
        "9. Can lists contain different data types?\n",
        "- Yes. Example: my_list = [1, \"hello\", 3.14, True]\n",
        "\n",
        "10. Explain Why strings are immutable in Python.\n",
        "- For memory efficiency, performance, and safety in concurrent execution (hashability).\n",
        "\n",
        "11. What Advantages of dictionaries over lists?\n",
        "- Faster lookup via keys, more expressive (key-value pairs).\n",
        "\n",
        "12. Describe a scenario where using a tuple would be preferable over a list.\n",
        "* When storing coordinates like (x, y) or returning multiple values from a function that shouldn’t be modified.\n",
        "\n",
        "13. How do sets handle duplicate values in Python?\n",
        "- Sets discard duplicates automatically.\n",
        "Example: set([1, 2, 2, 3]) → {1, 2, 3}\n",
        "\n",
        "14. How does the “in” keyword work differently for lists and dictionaries?\n",
        "\n",
        "- List: Checks for value existence.\n",
        "Dict: Checks for key existence.\n",
        "Example: \"a\" in [1, \"a\"] vs \"name\" in {\"name\": \"John\"}\n",
        "\n",
        "15. Can you modify the elements of a tuple? Explain why or why not.\n",
        "No, tuples are immutable. You cannot change their elements after creation.\n",
        "\n",
        "16. What is a nested dictionary, and give an example of its use case?\n",
        "- A dictionary inside another dictionary.\n",
        "student = {\"name\": \"John\", \"marks\": {\"math\": 90, \"science\": 85}}\n",
        "17. Describe the time complexity of accessing elements in a dictionary.\n",
        "- O(1) (average case) due to hashing.\n",
        "\n",
        "18. In what situations are lists preferred over dictionaries?\n",
        "- When order matters or when data doesn’t need to be accessed by keys.\n",
        "\n",
        "19. Why are dictionaries considered unordered, and how does that affect data retrieval?\n",
        "- Dictionaries don’t maintain insertion order (prior to Python 3.7), which can affect predictable data retrieval.\n",
        "\n",
        "20. Explain the difference between a list and a dictionary in terms of data retrieval.\n",
        "- List: Retrieve by index → slower lookup for values.\n",
        "Dictionary: Retrieve by key → fast and direct.\n",
        "\n"
      ],
      "metadata": {
        "id": "nSWR0IG22wIL"
      }
    },
    {
      "cell_type": "markdown",
      "source": [
        "## **Practical Questions**"
      ],
      "metadata": {
        "id": "LaHftdbvodxI"
      }
    },
    {
      "cell_type": "code",
      "source": [
        "# 1. Write a code to create a string with your name and print it.\n",
        "name = \"Your Name\"\n",
        "print(name)"
      ],
      "metadata": {
        "colab": {
          "base_uri": "https://localhost:8080/"
        },
        "id": "0SYPSktbT8kN",
        "outputId": "f3f366d2-ba85-466c-a7c7-89f1486503d9"
      },
      "execution_count": 1,
      "outputs": [
        {
          "output_type": "stream",
          "name": "stdout",
          "text": [
            "Your Name\n"
          ]
        }
      ]
    },
    {
      "cell_type": "code",
      "source": [
        "# 2. Write a code to find the length of the string \"Hello World\".\n",
        "print(len(\"Hello World\"))"
      ],
      "metadata": {
        "colab": {
          "base_uri": "https://localhost:8080/"
        },
        "id": "0PDENZ4lUU9z",
        "outputId": "30a0d953-5cc9-4901-9405-10a6d3eb5134"
      },
      "execution_count": 3,
      "outputs": [
        {
          "output_type": "stream",
          "name": "stdout",
          "text": [
            "11\n"
          ]
        }
      ]
    },
    {
      "cell_type": "code",
      "source": [
        "# 3. Write a code to slice the first 3 characters from the string \"Python Programming\".\n",
        "print(\"Python Programming\"[:3])"
      ],
      "metadata": {
        "colab": {
          "base_uri": "https://localhost:8080/"
        },
        "id": "R-h0ugbRU5x0",
        "outputId": "a0a1ae9a-355f-4e10-93b6-79e85d1c67d1"
      },
      "execution_count": 4,
      "outputs": [
        {
          "output_type": "stream",
          "name": "stdout",
          "text": [
            "Pyt\n"
          ]
        }
      ]
    },
    {
      "cell_type": "code",
      "source": [
        "# 4. Write a code to convert the string \"hello” to uppercase.\n",
        "print(\"hello\".upper())"
      ],
      "metadata": {
        "colab": {
          "base_uri": "https://localhost:8080/"
        },
        "id": "mUd_RU_ZVH3l",
        "outputId": "c0a66da7-2c96-45fc-9879-4db5d11d363b"
      },
      "execution_count": 5,
      "outputs": [
        {
          "output_type": "stream",
          "name": "stdout",
          "text": [
            "HELLO\n"
          ]
        }
      ]
    },
    {
      "cell_type": "code",
      "source": [
        "# 5. Write a code to replace the word “apple” with \"orange” in the string \"l like apple”.\n",
        "print(\"I like apple\".replace(\"apple\", \"orange\"))"
      ],
      "metadata": {
        "colab": {
          "base_uri": "https://localhost:8080/"
        },
        "id": "AHosd23rWHW6",
        "outputId": "c01361cd-25ab-4b6d-f283-e37f4aae5e84"
      },
      "execution_count": 6,
      "outputs": [
        {
          "output_type": "stream",
          "name": "stdout",
          "text": [
            "I like orange\n"
          ]
        }
      ]
    },
    {
      "cell_type": "code",
      "source": [
        "# 6. Write a code to create a list with numbers 1to 5 and print it.\n",
        "numbers = [1, 2, 3, 4, 5]\n",
        "print(numbers)"
      ],
      "metadata": {
        "id": "NkrQbuVoWwNF"
      },
      "execution_count": null,
      "outputs": []
    },
    {
      "cell_type": "code",
      "source": [
        "# 7. Write a code to append the number 10 to the list [1, 2, 3, 4].\n",
        "lst = [1, 2, 3, 4]\n",
        "lst.append(10)\n",
        "print(lst)"
      ],
      "metadata": {
        "colab": {
          "base_uri": "https://localhost:8080/"
        },
        "id": "m2EnbZIfW8KE",
        "outputId": "65c34f46-f44e-4655-cfd4-fcf2d769fe44"
      },
      "execution_count": 8,
      "outputs": [
        {
          "output_type": "stream",
          "name": "stdout",
          "text": [
            "[1, 2, 3, 4, 10]\n"
          ]
        }
      ]
    },
    {
      "cell_type": "code",
      "source": [
        "# 8. Write a code to remove the number 3 from the list [1, 2, 3, 4, 5].\n",
        "lst = [1, 2, 3, 4, 5]\n",
        "lst.remove(3)\n",
        "print(lst)"
      ],
      "metadata": {
        "colab": {
          "base_uri": "https://localhost:8080/"
        },
        "id": "4AImvk6YXD5C",
        "outputId": "cbf5be2c-654c-43ef-ecac-34e52edfbe84"
      },
      "execution_count": 9,
      "outputs": [
        {
          "output_type": "stream",
          "name": "stdout",
          "text": [
            "[1, 2, 3, 4, 10]\n"
          ]
        }
      ]
    },
    {
      "cell_type": "code",
      "source": [
        "# 9. Write a code to access the second element in the list ['a', 'b', 'c', 'd'].\n",
        "letters = ['a', 'b', 'c', 'd']\n",
        "print(letters[1])"
      ],
      "metadata": {
        "colab": {
          "base_uri": "https://localhost:8080/"
        },
        "id": "s1Rpxz0qXGyl",
        "outputId": "76bec836-cd49-4e24-fee1-3b61ad888df6"
      },
      "execution_count": 11,
      "outputs": [
        {
          "output_type": "stream",
          "name": "stdout",
          "text": [
            "b\n"
          ]
        }
      ]
    },
    {
      "cell_type": "code",
      "source": [
        "# 10. Write a code to reverse the list [10, 20, 30, 40, 50].\n",
        "lst = [10, 20, 30, 40, 50]\n",
        "lst.reverse()\n",
        "print(lst)"
      ],
      "metadata": {
        "colab": {
          "base_uri": "https://localhost:8080/"
        },
        "id": "X8sL5wCrXPlT",
        "outputId": "ed38bc88-74af-44a4-922c-e67c3688aba1"
      },
      "execution_count": 12,
      "outputs": [
        {
          "output_type": "stream",
          "name": "stdout",
          "text": [
            "[1, 2, 3, 4, 10]\n"
          ]
        }
      ]
    },
    {
      "cell_type": "code",
      "source": [
        "# 11. Write a code to create a tuple with the elements 100, 200, 300 and print it.\n",
        "tpl = (100, 200, 300)\n",
        "print(tpl)"
      ],
      "metadata": {
        "colab": {
          "base_uri": "https://localhost:8080/"
        },
        "id": "Q0ZuzFA3XRK6",
        "outputId": "24bcd547-f874-475c-c758-1b84505bd9a6"
      },
      "execution_count": 14,
      "outputs": [
        {
          "output_type": "stream",
          "name": "stdout",
          "text": [
            "(100, 200, 300)\n"
          ]
        }
      ]
    },
    {
      "cell_type": "code",
      "source": [
        "# 12. Write a code to access the second-to-last element of the tuple (red, ‘green’, 'blue, 'yellow'),\n",
        "colors = ('red', 'green', 'blue', 'yellow')\n",
        "print(colors[-2])"
      ],
      "metadata": {
        "colab": {
          "base_uri": "https://localhost:8080/"
        },
        "id": "zPolBjN1XRHu",
        "outputId": "eda21ca4-54ce-4185-a3db-21924a034e90"
      },
      "execution_count": 16,
      "outputs": [
        {
          "output_type": "stream",
          "name": "stdout",
          "text": [
            "blue\n"
          ]
        }
      ]
    },
    {
      "cell_type": "code",
      "source": [
        "# 13. Write a code to find the minimum number in the tuple (10, 20, 5, 15).\n",
        "tpl = (10, 20, 5, 15)\n",
        "print(min(tpl))"
      ],
      "metadata": {
        "colab": {
          "base_uri": "https://localhost:8080/"
        },
        "id": "mG47URyvatPf",
        "outputId": "ba1e0e20-a25d-4d2e-e45d-7c39ed17ebf9"
      },
      "execution_count": 17,
      "outputs": [
        {
          "output_type": "stream",
          "name": "stdout",
          "text": [
            "100\n"
          ]
        }
      ]
    },
    {
      "cell_type": "code",
      "source": [
        "# 14. Write a code to find the index of the element \"cat” in the tuple ('dog', ‘cat’, rabbit').\n",
        "animals = ('dog', 'cat', 'rabbit')\n",
        "print(animals.index('cat'))"
      ],
      "metadata": {
        "colab": {
          "base_uri": "https://localhost:8080/"
        },
        "id": "m2n26F_OazfW",
        "outputId": "a3e46913-cb4c-49f8-f7b7-a7a85808c5f3"
      },
      "execution_count": 19,
      "outputs": [
        {
          "output_type": "stream",
          "name": "stdout",
          "text": [
            "1\n"
          ]
        }
      ]
    },
    {
      "cell_type": "code",
      "source": [
        "# 15. Write a code to create a tuple containing three different fruits and check if \"kiwi\" is in it.\n",
        "fruits = ('apple', 'banana', 'mango')\n",
        "print(\"kiwi\" in fruits)"
      ],
      "metadata": {
        "colab": {
          "base_uri": "https://localhost:8080/"
        },
        "id": "ZZM5LiNFbDL8",
        "outputId": "816a3b1b-9896-40a1-b1f4-2d4e5b9f52cc"
      },
      "execution_count": 21,
      "outputs": [
        {
          "output_type": "stream",
          "name": "stdout",
          "text": [
            "False\n"
          ]
        }
      ]
    },
    {
      "cell_type": "code",
      "source": [
        "# 16. Write a code to create a set with the elements 'd’, 'b', 'c’ and print it.\n",
        "fruits = ('apple', 'banana', 'mango')\n",
        "print(\"kiwi\" in fruits)"
      ],
      "metadata": {
        "colab": {
          "base_uri": "https://localhost:8080/"
        },
        "id": "cU3f1qcMb47P",
        "outputId": "abe1c654-5c4f-43e2-a99d-963c52c17833"
      },
      "execution_count": 22,
      "outputs": [
        {
          "output_type": "stream",
          "name": "stdout",
          "text": [
            "False\n"
          ]
        }
      ]
    },
    {
      "cell_type": "code",
      "source": [
        "# 17. Write a code to clear all elements from the set {1, 2, 3, 4, 5}.\n",
        "s = {1, 2, 3, 4, 5}\n",
        "s.clear()\n",
        "print(s)"
      ],
      "metadata": {
        "colab": {
          "base_uri": "https://localhost:8080/"
        },
        "id": "9OUj8qGTcF_t",
        "outputId": "fc2415f3-7e02-480b-887c-5b747cc12744"
      },
      "execution_count": 24,
      "outputs": [
        {
          "output_type": "stream",
          "name": "stdout",
          "text": [
            "set()\n"
          ]
        }
      ]
    },
    {
      "cell_type": "code",
      "source": [
        "# 18. Write a code to remove the element 4 from the set {1, 2, 3, 4}.\n",
        "s = {1, 2, 3, 4, 5}\n",
        "s.clear()\n",
        "print(s)"
      ],
      "metadata": {
        "colab": {
          "base_uri": "https://localhost:8080/"
        },
        "id": "Gi9Yy1NdcPiw",
        "outputId": "3c9ef90f-5b38-469e-f6a8-0332d51962e1"
      },
      "execution_count": 25,
      "outputs": [
        {
          "output_type": "stream",
          "name": "stdout",
          "text": [
            "set()\n"
          ]
        }
      ]
    },
    {
      "cell_type": "code",
      "source": [
        "# 19. Write a code to find the union of two sets {1, 2, 3} and {3, 4, 5}.\n",
        "s = {1, 2, 3, 4}\n",
        "s.remove(4)\n",
        "print(s)"
      ],
      "metadata": {
        "colab": {
          "base_uri": "https://localhost:8080/"
        },
        "id": "M908uKDMcZjC",
        "outputId": "c9ee8972-4e6e-426c-fbb9-2be9ece6ff2b"
      },
      "execution_count": 26,
      "outputs": [
        {
          "output_type": "stream",
          "name": "stdout",
          "text": [
            "set()\n"
          ]
        }
      ]
    },
    {
      "cell_type": "code",
      "source": [
        "# 20. Write a code to find the intersection of two sets {1, 2, 3} and {2, 3, 4}.\n",
        "a = {1, 2, 3}\n",
        "b = {2, 3, 4}\n",
        "print(a.intersection(b))"
      ],
      "metadata": {
        "colab": {
          "base_uri": "https://localhost:8080/"
        },
        "id": "8G1xV_6ucetZ",
        "outputId": "aefc112f-c3cc-4c5d-a117-7017efad485e"
      },
      "execution_count": 28,
      "outputs": [
        {
          "output_type": "stream",
          "name": "stdout",
          "text": [
            "{2, 3}\n"
          ]
        }
      ]
    },
    {
      "cell_type": "code",
      "source": [
        "# 21. Write a code to create a dictionary with the keys \"name’, \"age”, and “city\", and print it.\n",
        "a = {1, 2, 3}\n",
        "b = {2, 3, 4}\n",
        "print(a.intersection(b))"
      ],
      "metadata": {
        "colab": {
          "base_uri": "https://localhost:8080/"
        },
        "id": "V-9Fmd2Ecyk9",
        "outputId": "5c89abb7-e7ee-4fa0-cc50-6e74fbff2fff"
      },
      "execution_count": 29,
      "outputs": [
        {
          "output_type": "stream",
          "name": "stdout",
          "text": [
            "{2, 3}\n"
          ]
        }
      ]
    },
    {
      "cell_type": "code",
      "source": [
        "# 22. Write a code to add a new key-value pair \"country”: \"USA” to the dictionary {name\" ‘John’, ‘age’: 25}.\n",
        "a = {1, 2, 3}\n",
        "b = {2, 3, 4}\n",
        "print(a.intersection(b))"
      ],
      "metadata": {
        "colab": {
          "base_uri": "https://localhost:8080/"
        },
        "id": "iWaCuzk6c9jr",
        "outputId": "5a2562c2-971c-4c26-c8f0-e8de87b61f32"
      },
      "execution_count": 30,
      "outputs": [
        {
          "output_type": "stream",
          "name": "stdout",
          "text": [
            "{2, 3}\n"
          ]
        }
      ]
    },
    {
      "cell_type": "code",
      "source": [
        "# 23. Write a code to access the value associated with the key \"name” in the dictionary {'name’: 'Alice’, ‘age’: 30}.\n",
        "d = {\"name\": \"Alice\", \"age\": 30}\n",
        "print(d[\"name\"])"
      ],
      "metadata": {
        "colab": {
          "base_uri": "https://localhost:8080/"
        },
        "id": "PLroStAUdDoE",
        "outputId": "3c3a4d76-aa93-42c2-a39a-1496d948cae4"
      },
      "execution_count": 33,
      "outputs": [
        {
          "output_type": "stream",
          "name": "stdout",
          "text": [
            "Alice\n"
          ]
        }
      ]
    },
    {
      "cell_type": "code",
      "source": [
        "# 24. Write a code to remove the key \"age” from the dictionary {name’: 'Bob), ‘age’: 22, ‘city\": 'New York'}.\n",
        "d = {'name': 'Alice', 'age': 30}\n",
        "print(d['name'])"
      ],
      "metadata": {
        "colab": {
          "base_uri": "https://localhost:8080/"
        },
        "id": "GoEykNHPdqjI",
        "outputId": "9db1a2c3-dbe1-4802-9883-0ec188d157be"
      },
      "execution_count": 34,
      "outputs": [
        {
          "metadata": {
            "tags": null
          },
          "name": "stdout",
          "output_type": "stream",
          "text": [
            "Alice\n"
          ]
        }
      ]
    },
    {
      "cell_type": "code",
      "source": [
        "# 25. Write a code to check if the key \"city” exists in the dictionary {'name\": 'Alice, ‘city\" 'Paris’}.\n",
        "d = {'name': 'Alice', 'city': 'Paris'}\n",
        "print(\"city\" in d)"
      ],
      "metadata": {
        "colab": {
          "base_uri": "https://localhost:8080/"
        },
        "id": "mKkv6jOnd77l",
        "outputId": "def50ba2-0f43-46c8-81c5-4f2c8d037fe4"
      },
      "execution_count": 36,
      "outputs": [
        {
          "output_type": "stream",
          "name": "stdout",
          "text": [
            "True\n"
          ]
        }
      ]
    },
    {
      "cell_type": "code",
      "source": [
        "# 26. Write a code to create a list, a tuple, and a dictionary, and print them alll.\n",
        "lst = [1, 2, 3]\n",
        "tpl = (4, 5, 6)\n",
        "dct = {\"a\": 1, \"b\": 2}\n",
        "print(lst, tpl, dct)"
      ],
      "metadata": {
        "colab": {
          "base_uri": "https://localhost:8080/"
        },
        "id": "MRv6Whkld_-y",
        "outputId": "f9b4a353-3d75-469e-94c1-69ebdec0322b"
      },
      "execution_count": 37,
      "outputs": [
        {
          "output_type": "stream",
          "name": "stdout",
          "text": [
            "[1, 2, 3] (4, 5, 6) {'a': 1, 'b': 2}\n"
          ]
        }
      ]
    },
    {
      "cell_type": "code",
      "source": [
        "# 27. Write a code to create a list of 5 random numbers between 1 and 100, sort it in ascending order, and print the\n",
        "# result.\n",
        "import random\n",
        "lst = random.sample(range(1, 101), 5)\n",
        "lst.sort()\n",
        "print(lst)"
      ],
      "metadata": {
        "colab": {
          "base_uri": "https://localhost:8080/"
        },
        "id": "foJghCxAeDRY",
        "outputId": "06e73cda-6b47-4998-a6d8-0514d5f8f0d8"
      },
      "execution_count": 39,
      "outputs": [
        {
          "output_type": "stream",
          "name": "stdout",
          "text": [
            "[1, 19, 23, 55, 61]\n"
          ]
        }
      ]
    },
    {
      "cell_type": "code",
      "source": [
        "# 28. Write a code to create a list with strings and print the element at the third index.\n",
        "strings = [\"apple\", \"banana\", \"cherry\", \"date\", \"fig\"]\n",
        "print(strings[3])"
      ],
      "metadata": {
        "colab": {
          "base_uri": "https://localhost:8080/"
        },
        "id": "20JQSgU6eKii",
        "outputId": "c662647e-a3ba-405a-896d-2add29dfdd4c"
      },
      "execution_count": 40,
      "outputs": [
        {
          "output_type": "stream",
          "name": "stdout",
          "text": [
            "date\n"
          ]
        }
      ]
    },
    {
      "cell_type": "code",
      "source": [
        "# 29. Write a code to combine two dictionaries into one and print the result.\n",
        "d1 = {\"a\": 1, \"b\": 2}\n",
        "d2 = {\"c\": 3, \"d\": 4}\n",
        "d1.update(d2)\n",
        "print(d1)"
      ],
      "metadata": {
        "colab": {
          "base_uri": "https://localhost:8080/"
        },
        "id": "XgM3oUTveOvT",
        "outputId": "ef24c9ca-97ad-4ec2-ca7a-391422724ad3"
      },
      "execution_count": 41,
      "outputs": [
        {
          "output_type": "stream",
          "name": "stdout",
          "text": [
            "{'a': 1, 'b': 2, 'c': 3, 'd': 4}\n"
          ]
        }
      ]
    },
    {
      "cell_type": "code",
      "source": [
        "# 30. Write a code to convert a list of strings into a set.\n",
        "lst = [\"apple\", \"banana\", \"apple\", \"cherry\"]\n",
        "s = set(lst)\n",
        "print(s)"
      ],
      "metadata": {
        "colab": {
          "base_uri": "https://localhost:8080/"
        },
        "id": "LMkyEYoBeUeI",
        "outputId": "8d261787-7c6c-4f68-8c24-be17772187e5"
      },
      "execution_count": 42,
      "outputs": [
        {
          "output_type": "stream",
          "name": "stdout",
          "text": [
            "{'cherry', 'apple', 'banana'}\n"
          ]
        }
      ]
    }
  ]
}